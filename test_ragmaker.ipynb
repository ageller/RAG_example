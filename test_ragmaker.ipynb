{
 "cells": [
  {
   "cell_type": "markdown",
   "id": "2273fa49",
   "metadata": {},
   "source": [
    "# My attempt at rewriting efrén's RAG code \n",
    "\n",
    "https://github.com/nuitrcs/AI_Week_RAG"
   ]
  },
  {
   "cell_type": "code",
   "execution_count": 1,
   "id": "e4438a53",
   "metadata": {},
   "outputs": [],
   "source": [
    "import pandas as pd"
   ]
  },
  {
   "cell_type": "code",
   "execution_count": 2,
   "id": "858bcfc3",
   "metadata": {},
   "outputs": [
    {
     "name": "stdout",
     "output_type": "stream",
     "text": [
      "ollama Python library imported successfully.\n"
     ]
    }
   ],
   "source": [
    "%load_ext autoreload\n",
    "%autoreload 2\n",
    "\n",
    "from ragmaker import RAGmaker"
   ]
  },
  {
   "cell_type": "markdown",
   "id": "a504f412",
   "metadata": {},
   "source": [
    "## Trying the song database"
   ]
  },
  {
   "cell_type": "code",
   "execution_count": 3,
   "id": "c4287808",
   "metadata": {},
   "outputs": [
    {
     "data": {
      "text/html": [
       "<div>\n",
       "<style scoped>\n",
       "    .dataframe tbody tr th:only-of-type {\n",
       "        vertical-align: middle;\n",
       "    }\n",
       "\n",
       "    .dataframe tbody tr th {\n",
       "        vertical-align: top;\n",
       "    }\n",
       "\n",
       "    .dataframe thead th {\n",
       "        text-align: right;\n",
       "    }\n",
       "</style>\n",
       "<table border=\"1\" class=\"dataframe\">\n",
       "  <thead>\n",
       "    <tr style=\"text-align: right;\">\n",
       "      <th></th>\n",
       "      <th>Artist</th>\n",
       "      <th>Title</th>\n",
       "      <th>Lyrics</th>\n",
       "    </tr>\n",
       "  </thead>\n",
       "  <tbody>\n",
       "    <tr>\n",
       "      <th>0</th>\n",
       "      <td>Taylor Swift</td>\n",
       "      <td>cardigan</td>\n",
       "      <td>Vintage tee, brand new phone\\nHigh heels on co...</td>\n",
       "    </tr>\n",
       "    <tr>\n",
       "      <th>1</th>\n",
       "      <td>Taylor Swift</td>\n",
       "      <td>exile</td>\n",
       "      <td>I can see you standing, honey\\nWith his arms a...</td>\n",
       "    </tr>\n",
       "    <tr>\n",
       "      <th>2</th>\n",
       "      <td>Taylor Swift</td>\n",
       "      <td>Lover</td>\n",
       "      <td>We could leave the Christmas lights up 'til Ja...</td>\n",
       "    </tr>\n",
       "    <tr>\n",
       "      <th>3</th>\n",
       "      <td>Taylor Swift</td>\n",
       "      <td>the 1</td>\n",
       "      <td>I'm doing good, I'm on some new shit\\nBeen say...</td>\n",
       "    </tr>\n",
       "    <tr>\n",
       "      <th>4</th>\n",
       "      <td>Taylor Swift</td>\n",
       "      <td>Look What You Made Me Do</td>\n",
       "      <td>I don't like your little games\\nDon't like you...</td>\n",
       "    </tr>\n",
       "    <tr>\n",
       "      <th>...</th>\n",
       "      <td>...</td>\n",
       "      <td>...</td>\n",
       "      <td>...</td>\n",
       "    </tr>\n",
       "    <tr>\n",
       "      <th>740</th>\n",
       "      <td>George Michael</td>\n",
       "      <td>The First Time Ever I Saw Your Face</td>\n",
       "      <td>The first time ever I saw your face\\nI thought...</td>\n",
       "    </tr>\n",
       "    <tr>\n",
       "      <th>741</th>\n",
       "      <td>George Michael</td>\n",
       "      <td>Waiting For That Day/You Can’t Always Get What...</td>\n",
       "      <td>Now every day I see you in some other face\\nTh...</td>\n",
       "    </tr>\n",
       "    <tr>\n",
       "      <th>742</th>\n",
       "      <td>George Michael</td>\n",
       "      <td>Shoot the Dog</td>\n",
       "      <td>GTI, Hot Shot\\nHe parks it there, just to piss...</td>\n",
       "    </tr>\n",
       "    <tr>\n",
       "      <th>743</th>\n",
       "      <td>George Michael</td>\n",
       "      <td>Star People</td>\n",
       "      <td>Maybe your mama gave you up, boy\\nMaybe your d...</td>\n",
       "    </tr>\n",
       "    <tr>\n",
       "      <th>744</th>\n",
       "      <td>George Michael</td>\n",
       "      <td>Tonight</td>\n",
       "      <td>Tonight\\nDo we have to fight again\\nTonight?\\n...</td>\n",
       "    </tr>\n",
       "  </tbody>\n",
       "</table>\n",
       "<p>745 rows × 3 columns</p>\n",
       "</div>"
      ],
      "text/plain": [
       "             Artist                                              Title  \\\n",
       "0      Taylor Swift                                           cardigan   \n",
       "1      Taylor Swift                                              exile   \n",
       "2      Taylor Swift                                              Lover   \n",
       "3      Taylor Swift                                              the 1   \n",
       "4      Taylor Swift                           Look What You Made Me Do   \n",
       "..              ...                                                ...   \n",
       "740  George Michael                The First Time Ever I Saw Your Face   \n",
       "741  George Michael  Waiting For That Day/You Can’t Always Get What...   \n",
       "742  George Michael                                      Shoot the Dog   \n",
       "743  George Michael                                        Star People   \n",
       "744  George Michael                                            Tonight   \n",
       "\n",
       "                                                Lyrics  \n",
       "0    Vintage tee, brand new phone\\nHigh heels on co...  \n",
       "1    I can see you standing, honey\\nWith his arms a...  \n",
       "2    We could leave the Christmas lights up 'til Ja...  \n",
       "3    I'm doing good, I'm on some new shit\\nBeen say...  \n",
       "4    I don't like your little games\\nDon't like you...  \n",
       "..                                                 ...  \n",
       "740  The first time ever I saw your face\\nI thought...  \n",
       "741  Now every day I see you in some other face\\nTh...  \n",
       "742  GTI, Hot Shot\\nHe parks it there, just to piss...  \n",
       "743  Maybe your mama gave you up, boy\\nMaybe your d...  \n",
       "744  Tonight\\nDo we have to fight again\\nTonight?\\n...  \n",
       "\n",
       "[745 rows x 3 columns]"
      ]
     },
     "execution_count": 3,
     "metadata": {},
     "output_type": "execute_result"
    }
   ],
   "source": [
    "lyrics = pd.read_csv(\"https://raw.githubusercontent.com/nuitrcs/AI_Week_RAG/refs/heads/main/data/songs.csv\")\n",
    "lyrics"
   ]
  },
  {
   "cell_type": "code",
   "execution_count": 16,
   "id": "bc4560b0",
   "metadata": {},
   "outputs": [
    {
     "name": "stdout",
     "output_type": "stream",
     "text": [
      "Artist: Taylor Swift\n",
      "Title: cardigan\n"
     ]
    }
   ],
   "source": [
    "metadata = 'Artist: ' + lyrics['Artist'] + '\\n' + 'Title: ' + lyrics['Title'] \n",
    "print(metadata[0])"
   ]
  },
  {
   "cell_type": "code",
   "execution_count": 5,
   "id": "c03fd8d1",
   "metadata": {},
   "outputs": [],
   "source": [
    "my_ragmaker = RAGmaker()\n",
    "my_ragmaker.init_text_rag_model(lyrics['Lyrics'], metadata = metadata)"
   ]
  },
  {
   "cell_type": "code",
   "execution_count": 6,
   "id": "6df19c6c",
   "metadata": {},
   "outputs": [
    {
     "name": "stdout",
     "output_type": "stream",
     "text": [
      "Match(es) to your query 'Life is good and I will survive. I am happy that things turned out this way':\n",
      "\n",
      "Metadata:\n",
      "Artist: Eric Clapton\n",
      "Title: I’ll Be Alright\n",
      "Text:\n",
      "I'll be alright\n",
      "I'll be alright\n",
      "I'll be alright someday\n",
      "If in my heart\n",
      "I do not give\n",
      "Then I'll be al\n",
      "\n",
      "Metadata:\n",
      "Artist: John Denver\n",
      "Title: Poems, Prayers, & Promises\n",
      "Text:\n",
      "I've been lately thinking\n",
      "About my life's time\n",
      "All the things I've done\n",
      "And how it's been\n",
      "And I can'\n",
      "\n",
      "\n"
     ]
    }
   ],
   "source": [
    "query_text = \"Life is good and I will survive. I am happy that things turned out this way\"\n",
    "my_ragmaker.search_text_database_and_print_matches(query_text, k=2, text_character_limit=100)"
   ]
  },
  {
   "cell_type": "markdown",
   "id": "fd96a45c",
   "metadata": {},
   "source": [
    "## Add generation\n",
    "\n",
    "my code assumes the system prompt has `{user_input}` and `{search_ouput}`"
   ]
  },
  {
   "cell_type": "code",
   "execution_count": null,
   "id": "a505f6ab",
   "metadata": {},
   "outputs": [],
   "source": [
    "system_prompt = \"\"\"\n",
    "# System\n",
    "You are an art critic with extensive music knowledge. \n",
    "Your role is to reply and comment on the user's input (thoughts, questions, or comments) based \n",
    "on the songs that are most relevant to their input. The input is below under the USER_INPUT section, \n",
    "and the relevant songs you have knowledge about, including the author, title, and lyrics, are given \n",
    "below in the CONTEXT_SONGS section. Make sure you ground your answers as much as possible on the songs provided.\n",
    "\n",
    "# USER_INPUT\n",
    "\n",
    "{user_input}\n",
    "\n",
    "# CONTEXT_SONGS\n",
    "\n",
    "{search_output}\n",
    "\n",
    "# ART CRITIC'S RESPONSE\n",
    "\"\"\""
   ]
  },
  {
   "cell_type": "code",
   "execution_count": 8,
   "id": "4c1228e4",
   "metadata": {},
   "outputs": [
    {
     "name": "stdout",
     "output_type": "stream",
     "text": [
      "The sentiment of \"I'll be alright\" and happiness with the current state of life reminds me of John Denver's introspective and optimistic song, \"Poems, Prayers, & Promises\". The lyrics convey a sense of contentment and appreciation for the journey one has taken so far. It's as if he's reflecting on the experiences, relationships, and moments that have shaped his life, and finding solace in the fact that it's been a good life overall.\n",
      "\n",
      "In contrast, Eric Clapton's \"I'll Be Alright\" takes a more melancholic tone, with a focus on perseverance and overcoming challenges. While both songs share themes of resilience, I think John Denver's approach is more fitting for your sentiment of embracing the present and looking forward to the future.\n",
      "\n",
      "The idea that life has passed by quickly, and time is fleeting, also echoes in John Denver's song. He talks about how the days are shortening, and the changes in his life are making him appreciate the moments he still has left. This line resonates with your comment about things turning out \"good\" and you being happy with the current state of life.\n",
      "\n",
      "Overall, I think John Denver's \"Poems, Prayers, & Promises\" captures the essence of your sentiment better than Eric Clapton's \"I'll Be Alright\".\n"
     ]
    }
   ],
   "source": [
    "my_ragmaker.query_text_rag_model(query_text, system_prompt, k=2)"
   ]
  },
  {
   "cell_type": "markdown",
   "id": "d8c0fb3f",
   "metadata": {},
   "source": [
    "## Trying the Shakespeare database"
   ]
  },
  {
   "cell_type": "code",
   "execution_count": 9,
   "id": "24828a1b",
   "metadata": {},
   "outputs": [
    {
     "data": {
      "text/html": [
       "<div>\n",
       "<style scoped>\n",
       "    .dataframe tbody tr th:only-of-type {\n",
       "        vertical-align: middle;\n",
       "    }\n",
       "\n",
       "    .dataframe tbody tr th {\n",
       "        vertical-align: top;\n",
       "    }\n",
       "\n",
       "    .dataframe thead th {\n",
       "        text-align: right;\n",
       "    }\n",
       "</style>\n",
       "<table border=\"1\" class=\"dataframe\">\n",
       "  <thead>\n",
       "    <tr style=\"text-align: right;\">\n",
       "      <th></th>\n",
       "      <th>Unnamed: 0</th>\n",
       "      <th>speaker_change</th>\n",
       "      <th>play_name</th>\n",
       "      <th>genre</th>\n",
       "      <th>character</th>\n",
       "      <th>act</th>\n",
       "      <th>scene</th>\n",
       "      <th>text</th>\n",
       "    </tr>\n",
       "  </thead>\n",
       "  <tbody>\n",
       "    <tr>\n",
       "      <th>0</th>\n",
       "      <td>0</td>\n",
       "      <td>1</td>\n",
       "      <td>All's Well That Ends Well</td>\n",
       "      <td>Comedy</td>\n",
       "      <td>Countess</td>\n",
       "      <td>1</td>\n",
       "      <td>1</td>\n",
       "      <td>In delivering my son from me, I bury a second ...</td>\n",
       "    </tr>\n",
       "    <tr>\n",
       "      <th>1</th>\n",
       "      <td>1</td>\n",
       "      <td>2</td>\n",
       "      <td>All's Well That Ends Well</td>\n",
       "      <td>Comedy</td>\n",
       "      <td>Bertram</td>\n",
       "      <td>1</td>\n",
       "      <td>1</td>\n",
       "      <td>And I in going, madam, weep o'er my father's d...</td>\n",
       "    </tr>\n",
       "    <tr>\n",
       "      <th>2</th>\n",
       "      <td>2</td>\n",
       "      <td>3</td>\n",
       "      <td>All's Well That Ends Well</td>\n",
       "      <td>Comedy</td>\n",
       "      <td>Lafeu</td>\n",
       "      <td>1</td>\n",
       "      <td>1</td>\n",
       "      <td>You shall find of the king a husband, madam; y...</td>\n",
       "    </tr>\n",
       "    <tr>\n",
       "      <th>3</th>\n",
       "      <td>3</td>\n",
       "      <td>4</td>\n",
       "      <td>All's Well That Ends Well</td>\n",
       "      <td>Comedy</td>\n",
       "      <td>Countess</td>\n",
       "      <td>1</td>\n",
       "      <td>1</td>\n",
       "      <td>What hope is there of his majesty's amendment?</td>\n",
       "    </tr>\n",
       "    <tr>\n",
       "      <th>4</th>\n",
       "      <td>4</td>\n",
       "      <td>5</td>\n",
       "      <td>All's Well That Ends Well</td>\n",
       "      <td>Comedy</td>\n",
       "      <td>Lafeu</td>\n",
       "      <td>1</td>\n",
       "      <td>1</td>\n",
       "      <td>He hath abandoned his physicians, madam; under...</td>\n",
       "    </tr>\n",
       "    <tr>\n",
       "      <th>...</th>\n",
       "      <td>...</td>\n",
       "      <td>...</td>\n",
       "      <td>...</td>\n",
       "      <td>...</td>\n",
       "      <td>...</td>\n",
       "      <td>...</td>\n",
       "      <td>...</td>\n",
       "      <td>...</td>\n",
       "    </tr>\n",
       "    <tr>\n",
       "      <th>30871</th>\n",
       "      <td>30871</td>\n",
       "      <td>30857</td>\n",
       "      <td>Titus Andronicus</td>\n",
       "      <td>Tragedy</td>\n",
       "      <td>Young Lucius</td>\n",
       "      <td>5</td>\n",
       "      <td>3</td>\n",
       "      <td>O grandsire, grandsire! even with all my heart...</td>\n",
       "    </tr>\n",
       "    <tr>\n",
       "      <th>30872</th>\n",
       "      <td>30872</td>\n",
       "      <td>30858</td>\n",
       "      <td>Titus Andronicus</td>\n",
       "      <td>Tragedy</td>\n",
       "      <td>Aemilius</td>\n",
       "      <td>5</td>\n",
       "      <td>3</td>\n",
       "      <td>You sad Andronici, have done with woes: Give s...</td>\n",
       "    </tr>\n",
       "    <tr>\n",
       "      <th>30873</th>\n",
       "      <td>30873</td>\n",
       "      <td>30859</td>\n",
       "      <td>Titus Andronicus</td>\n",
       "      <td>Tragedy</td>\n",
       "      <td>Lucius</td>\n",
       "      <td>5</td>\n",
       "      <td>3</td>\n",
       "      <td>Set him breast-deep in earth, and famish him; ...</td>\n",
       "    </tr>\n",
       "    <tr>\n",
       "      <th>30874</th>\n",
       "      <td>30874</td>\n",
       "      <td>30860</td>\n",
       "      <td>Titus Andronicus</td>\n",
       "      <td>Tragedy</td>\n",
       "      <td>Aaron</td>\n",
       "      <td>5</td>\n",
       "      <td>3</td>\n",
       "      <td>O, why should wrath be mute, and fury dumb? I ...</td>\n",
       "    </tr>\n",
       "    <tr>\n",
       "      <th>30875</th>\n",
       "      <td>30875</td>\n",
       "      <td>30861</td>\n",
       "      <td>Titus Andronicus</td>\n",
       "      <td>Tragedy</td>\n",
       "      <td>Lucius</td>\n",
       "      <td>5</td>\n",
       "      <td>3</td>\n",
       "      <td>Some loving friends convey the emperor hence, ...</td>\n",
       "    </tr>\n",
       "  </tbody>\n",
       "</table>\n",
       "<p>30876 rows × 8 columns</p>\n",
       "</div>"
      ],
      "text/plain": [
       "       Unnamed: 0  speaker_change                  play_name    genre  \\\n",
       "0               0               1  All's Well That Ends Well   Comedy   \n",
       "1               1               2  All's Well That Ends Well   Comedy   \n",
       "2               2               3  All's Well That Ends Well   Comedy   \n",
       "3               3               4  All's Well That Ends Well   Comedy   \n",
       "4               4               5  All's Well That Ends Well   Comedy   \n",
       "...           ...             ...                        ...      ...   \n",
       "30871       30871           30857           Titus Andronicus  Tragedy   \n",
       "30872       30872           30858           Titus Andronicus  Tragedy   \n",
       "30873       30873           30859           Titus Andronicus  Tragedy   \n",
       "30874       30874           30860           Titus Andronicus  Tragedy   \n",
       "30875       30875           30861           Titus Andronicus  Tragedy   \n",
       "\n",
       "          character  act  scene  \\\n",
       "0          Countess    1      1   \n",
       "1           Bertram    1      1   \n",
       "2             Lafeu    1      1   \n",
       "3          Countess    1      1   \n",
       "4             Lafeu    1      1   \n",
       "...             ...  ...    ...   \n",
       "30871  Young Lucius    5      3   \n",
       "30872      Aemilius    5      3   \n",
       "30873        Lucius    5      3   \n",
       "30874         Aaron    5      3   \n",
       "30875        Lucius    5      3   \n",
       "\n",
       "                                                    text  \n",
       "0      In delivering my son from me, I bury a second ...  \n",
       "1      And I in going, madam, weep o'er my father's d...  \n",
       "2      You shall find of the king a husband, madam; y...  \n",
       "3         What hope is there of his majesty's amendment?  \n",
       "4      He hath abandoned his physicians, madam; under...  \n",
       "...                                                  ...  \n",
       "30871  O grandsire, grandsire! even with all my heart...  \n",
       "30872  You sad Andronici, have done with woes: Give s...  \n",
       "30873  Set him breast-deep in earth, and famish him; ...  \n",
       "30874  O, why should wrath be mute, and fury dumb? I ...  \n",
       "30875  Some loving friends convey the emperor hence, ...  \n",
       "\n",
       "[30876 rows x 8 columns]"
      ]
     },
     "execution_count": 9,
     "metadata": {},
     "output_type": "execute_result"
    }
   ],
   "source": [
    "plays = pd.read_csv(\"https://raw.githubusercontent.com/nuitrcs/AI_Week_RAG/refs/heads/main/data/shakespeare_plays_by_speech.csv\")\n",
    "plays"
   ]
  },
  {
   "cell_type": "code",
   "execution_count": 10,
   "id": "6c663f0b",
   "metadata": {},
   "outputs": [
    {
     "data": {
      "text/plain": [
       "Index(['Unnamed: 0', 'speaker_change', 'play_name', 'genre', 'character',\n",
       "       'act', 'scene', 'text'],\n",
       "      dtype='object')"
      ]
     },
     "execution_count": 10,
     "metadata": {},
     "output_type": "execute_result"
    }
   ],
   "source": [
    "plays.columns"
   ]
  },
  {
   "cell_type": "code",
   "execution_count": 11,
   "id": "bcc047f4",
   "metadata": {},
   "outputs": [
    {
     "name": "stdout",
     "output_type": "stream",
     "text": [
      "Play Name: All's Well That Ends Well\n",
      "Genre: Comedy\n",
      "Character: Countess\n",
      "Act: 1\n",
      "Scene: 1\n"
     ]
    }
   ],
   "source": [
    "metadata = 'Play Name: ' + plays['play_name'] + '\\n' + \\\n",
    "    'Genre: ' + plays['genre'] + '\\n' + \\\n",
    "    'Character: ' + plays['character'] + '\\n' + \\\n",
    "    'Act: ' + plays['act'].astype(str) + '\\n' + \\\n",
    "    'Scene: ' + plays['scene'].astype(str)\n",
    "    \n",
    "print(metadata[0])"
   ]
  },
  {
   "cell_type": "code",
   "execution_count": 12,
   "id": "aea62369",
   "metadata": {},
   "outputs": [],
   "source": [
    "my_ragmaker = RAGmaker()\n",
    "my_ragmaker.init_text_rag_model(plays['text'], metadata = metadata)"
   ]
  },
  {
   "cell_type": "code",
   "execution_count": null,
   "id": "7fc24ebf",
   "metadata": {},
   "outputs": [],
   "source": [
    "query_text = \"Does the word 'darkness' take the same meaning in Shakespeare's plays as it does in our modern parlance?\"\n",
    "system_prompt = \"\"\"\n",
    "# System\n",
    "You are a Shakespeare expert. \n",
    "Your role is to reply and comment on the user's input (thoughts, questions, or comments) based \n",
    "on the lines from Shakespeare's plays that are most relevant to their input. \n",
    "The input is below under the USER_INPUT section, and the relevant lines you have knowledge about, \n",
    "including metadata with Play Name, Genre, Character, Act and Scene are given below in the CONTEXT_LINES section. \n",
    "Make sure you ground your answers as much as possible on the lines provided.\n",
    "\n",
    "# USER_INPUT\n",
    "\n",
    "{user_input}\n",
    "\n",
    "# CONTEXT_LINES\n",
    "\n",
    "{search_output}\n",
    "\n",
    "# SHAKESPEARE EXPERT'S RESPONSE\n",
    "\"\"\""
   ]
  },
  {
   "cell_type": "code",
   "execution_count": 14,
   "id": "98db0e08",
   "metadata": {},
   "outputs": [
    {
     "name": "stdout",
     "output_type": "stream",
     "text": [
      "Match(es) to your query 'Does the word 'darkness' take the same meaning in Shakespeare's plays as it does in our modern parlance?':\n",
      "\n",
      "Metadata:\n",
      "Play Name: Macbeth\n",
      "Genre: Tragedy\n",
      "Character: Ross\n",
      "Act: 2\n",
      "Scene: 4\n",
      "Text:\n",
      "Ah, good father, Thou seest, the heavens, as troubled with man's act, Threaten his bloody stage: by the clock, 'tis day, And yet dark night strangles the travelling lamp: Is't night's predominance, or\n",
      "\n",
      "Metadata:\n",
      "Play Name: Richard III\n",
      "Genre: History\n",
      "Character: Lady Anne\n",
      "Act: 1\n",
      "Scene: 2\n",
      "Text:\n",
      "Black night o'ershade thy day, and death thy life!\n",
      "\n",
      "Metadata:\n",
      "Play Name: Romeo and Juliet\n",
      "Genre: Tragedy\n",
      "Character: Juliet\n",
      "Act: 3\n",
      "Scene: 2\n",
      "Text:\n",
      "Gallop apace, you fiery-footed steeds, Towards Phoebus' lodging: such a wagoner As Phaethon would whip you to the west, And bring in cloudy night immediately. Spread thy close curtain, love-performing\n",
      "\n",
      "Metadata:\n",
      "Play Name: Love's Labours Lost\n",
      "Genre: Comedy\n",
      "Character: Dumain\n",
      "Act: 4\n",
      "Scene: 3\n",
      "Text:\n",
      "Dark needs no candles now, for dark is light.\n",
      "\n",
      "Metadata:\n",
      "Play Name: Titus Andronicus\n",
      "Genre: Tragedy\n",
      "Character: Tamora\n",
      "Act: 2\n",
      "Scene: 3\n",
      "Text:\n",
      "Have I not reason, think you, to look pale? These two have 'ticed me hither to this place: A barren detested vale, you see it is; The trees, though summer, yet forlorn and lean, O'ercome with moss and\n",
      "\n",
      "\n"
     ]
    }
   ],
   "source": [
    "my_ragmaker.search_text_database_and_print_matches(query_text, k=5, text_character_limit=200)"
   ]
  },
  {
   "cell_type": "code",
   "execution_count": 15,
   "id": "8df7cbeb",
   "metadata": {},
   "outputs": [
    {
     "name": "stdout",
     "output_type": "stream",
     "text": [
      "The question of whether the word \"darkness\" takes the same meaning in Shakespeare's plays as it does in our modern parlance is a complex one. Upon examining the provided lines, we can see that Shakespeare often employed darkness to represent both physical absence of light and emotional or psychological states.\n",
      "\n",
      "In Macbeth (Act 2, Scene 4), Ross describes \"dark night strangles the travelling lamp,\" suggesting that darkness is not just an absence of light but also a force that can overpower even the most vibrant aspects of life. Here, darkness seems to have a more active role than simply being an absence of illumination.\n",
      "\n",
      "In Richard III (Act 1, Scene 2), Lady Anne says \"Black night o'ershade thy day,\" where darkness is used to describe not just the physical absence of light but also a metaphorical shroud that covers the day. Here, darkness seems to symbolize decay and corruption rather than simply being an absence of illumination.\n",
      "\n",
      "In Romeo and Juliet (Act 3, Scene 2), Juliet famously says \"Come, gentle night... Give me my Romeo; and, when he shall die, Take him and cut him out in little stars,\" where darkness is used to represent the freedom and intimacy that lovers can share together. In this context, darkness seems to be a positive force that allows for deep emotional connection.\n",
      "\n",
      "In Love's Labours Lost (Act 4, Scene 3), Dumain says \"Dark needs no candles now, for dark is light.\" This line suggests that in certain contexts, darkness can be used as a metaphor for wisdom, insight, or illumination. Here, darkness seems to represent a state of clarity rather than simply an absence of light.\n",
      "\n",
      "In Titus Andronicus (Act 2, Scene 3), Tamora uses darkness to describe a place of horror and despair, where \"thousand fiends, a thousand hissing snakes, Ten thousand swelling toads... Would make such fearful and confused cries\" that would drive anyone mad or lead to death. Here, darkness is used to represent a state of extreme terror and fear.\n",
      "\n",
      "In conclusion, while the word \"darkness\" in Shakespeare's plays can often be used to describe an absence of light, it also frequently carries metaphorical meanings related to emotions, psychological states, and even spiritual or philosophical concepts. Therefore, whether darkness takes the same meaning as it does in our modern parlance depends on the context in which it is used in each specific play.\n"
     ]
    }
   ],
   "source": [
    "my_ragmaker.query_text_rag_model(query_text, system_prompt, k=5)"
   ]
  },
  {
   "cell_type": "code",
   "execution_count": null,
   "id": "761936de",
   "metadata": {},
   "outputs": [],
   "source": []
  }
 ],
 "metadata": {
  "kernelspec": {
   "display_name": "huggingface-wsl",
   "language": "python",
   "name": "python3"
  },
  "language_info": {
   "codemirror_mode": {
    "name": "ipython",
    "version": 3
   },
   "file_extension": ".py",
   "mimetype": "text/x-python",
   "name": "python",
   "nbconvert_exporter": "python",
   "pygments_lexer": "ipython3",
   "version": "3.11.11"
  }
 },
 "nbformat": 4,
 "nbformat_minor": 5
}
