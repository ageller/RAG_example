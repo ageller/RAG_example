{
 "cells": [
  {
   "cell_type": "markdown",
   "id": "2273fa49",
   "metadata": {},
   "source": [
    "# My attempt at rewriting efrén's RAG code \n",
    "\n",
    "https://github.com/nuitrcs/AI_Week_RAG"
   ]
  },
  {
   "cell_type": "code",
   "execution_count": 1,
   "id": "e4438a53",
   "metadata": {},
   "outputs": [],
   "source": [
    "import pandas as pd"
   ]
  },
  {
   "cell_type": "code",
   "execution_count": 2,
   "id": "858bcfc3",
   "metadata": {},
   "outputs": [
    {
     "name": "stdout",
     "output_type": "stream",
     "text": [
      "ollama Python library imported successfully.\n"
     ]
    }
   ],
   "source": [
    "%load_ext autoreload\n",
    "%autoreload 2\n",
    "\n",
    "from ragmaker import RAGmaker"
   ]
  },
  {
   "cell_type": "code",
   "execution_count": 3,
   "id": "c4287808",
   "metadata": {},
   "outputs": [
    {
     "data": {
      "text/html": [
       "<div>\n",
       "<style scoped>\n",
       "    .dataframe tbody tr th:only-of-type {\n",
       "        vertical-align: middle;\n",
       "    }\n",
       "\n",
       "    .dataframe tbody tr th {\n",
       "        vertical-align: top;\n",
       "    }\n",
       "\n",
       "    .dataframe thead th {\n",
       "        text-align: right;\n",
       "    }\n",
       "</style>\n",
       "<table border=\"1\" class=\"dataframe\">\n",
       "  <thead>\n",
       "    <tr style=\"text-align: right;\">\n",
       "      <th></th>\n",
       "      <th>Artist</th>\n",
       "      <th>Title</th>\n",
       "      <th>Lyrics</th>\n",
       "    </tr>\n",
       "  </thead>\n",
       "  <tbody>\n",
       "    <tr>\n",
       "      <th>0</th>\n",
       "      <td>Taylor Swift</td>\n",
       "      <td>cardigan</td>\n",
       "      <td>Vintage tee, brand new phone\\nHigh heels on co...</td>\n",
       "    </tr>\n",
       "    <tr>\n",
       "      <th>1</th>\n",
       "      <td>Taylor Swift</td>\n",
       "      <td>exile</td>\n",
       "      <td>I can see you standing, honey\\nWith his arms a...</td>\n",
       "    </tr>\n",
       "    <tr>\n",
       "      <th>2</th>\n",
       "      <td>Taylor Swift</td>\n",
       "      <td>Lover</td>\n",
       "      <td>We could leave the Christmas lights up 'til Ja...</td>\n",
       "    </tr>\n",
       "    <tr>\n",
       "      <th>3</th>\n",
       "      <td>Taylor Swift</td>\n",
       "      <td>the 1</td>\n",
       "      <td>I'm doing good, I'm on some new shit\\nBeen say...</td>\n",
       "    </tr>\n",
       "    <tr>\n",
       "      <th>4</th>\n",
       "      <td>Taylor Swift</td>\n",
       "      <td>Look What You Made Me Do</td>\n",
       "      <td>I don't like your little games\\nDon't like you...</td>\n",
       "    </tr>\n",
       "    <tr>\n",
       "      <th>...</th>\n",
       "      <td>...</td>\n",
       "      <td>...</td>\n",
       "      <td>...</td>\n",
       "    </tr>\n",
       "    <tr>\n",
       "      <th>740</th>\n",
       "      <td>George Michael</td>\n",
       "      <td>The First Time Ever I Saw Your Face</td>\n",
       "      <td>The first time ever I saw your face\\nI thought...</td>\n",
       "    </tr>\n",
       "    <tr>\n",
       "      <th>741</th>\n",
       "      <td>George Michael</td>\n",
       "      <td>Waiting For That Day/You Can’t Always Get What...</td>\n",
       "      <td>Now every day I see you in some other face\\nTh...</td>\n",
       "    </tr>\n",
       "    <tr>\n",
       "      <th>742</th>\n",
       "      <td>George Michael</td>\n",
       "      <td>Shoot the Dog</td>\n",
       "      <td>GTI, Hot Shot\\nHe parks it there, just to piss...</td>\n",
       "    </tr>\n",
       "    <tr>\n",
       "      <th>743</th>\n",
       "      <td>George Michael</td>\n",
       "      <td>Star People</td>\n",
       "      <td>Maybe your mama gave you up, boy\\nMaybe your d...</td>\n",
       "    </tr>\n",
       "    <tr>\n",
       "      <th>744</th>\n",
       "      <td>George Michael</td>\n",
       "      <td>Tonight</td>\n",
       "      <td>Tonight\\nDo we have to fight again\\nTonight?\\n...</td>\n",
       "    </tr>\n",
       "  </tbody>\n",
       "</table>\n",
       "<p>745 rows × 3 columns</p>\n",
       "</div>"
      ],
      "text/plain": [
       "             Artist                                              Title  \\\n",
       "0      Taylor Swift                                           cardigan   \n",
       "1      Taylor Swift                                              exile   \n",
       "2      Taylor Swift                                              Lover   \n",
       "3      Taylor Swift                                              the 1   \n",
       "4      Taylor Swift                           Look What You Made Me Do   \n",
       "..              ...                                                ...   \n",
       "740  George Michael                The First Time Ever I Saw Your Face   \n",
       "741  George Michael  Waiting For That Day/You Can’t Always Get What...   \n",
       "742  George Michael                                      Shoot the Dog   \n",
       "743  George Michael                                        Star People   \n",
       "744  George Michael                                            Tonight   \n",
       "\n",
       "                                                Lyrics  \n",
       "0    Vintage tee, brand new phone\\nHigh heels on co...  \n",
       "1    I can see you standing, honey\\nWith his arms a...  \n",
       "2    We could leave the Christmas lights up 'til Ja...  \n",
       "3    I'm doing good, I'm on some new shit\\nBeen say...  \n",
       "4    I don't like your little games\\nDon't like you...  \n",
       "..                                                 ...  \n",
       "740  The first time ever I saw your face\\nI thought...  \n",
       "741  Now every day I see you in some other face\\nTh...  \n",
       "742  GTI, Hot Shot\\nHe parks it there, just to piss...  \n",
       "743  Maybe your mama gave you up, boy\\nMaybe your d...  \n",
       "744  Tonight\\nDo we have to fight again\\nTonight?\\n...  \n",
       "\n",
       "[745 rows x 3 columns]"
      ]
     },
     "execution_count": 3,
     "metadata": {},
     "output_type": "execute_result"
    }
   ],
   "source": [
    "lyrics = pd.read_csv(\"https://raw.githubusercontent.com/nuitrcs/AI_Week_RAG/refs/heads/main/data/songs.csv\")\n",
    "lyrics"
   ]
  },
  {
   "cell_type": "code",
   "execution_count": 4,
   "id": "bc4560b0",
   "metadata": {},
   "outputs": [],
   "source": [
    "metadata = 'Artist: ' + lyrics['Artist'] + '\\n' + 'Title: ' + lyrics['Title'] "
   ]
  },
  {
   "cell_type": "code",
   "execution_count": 5,
   "id": "c03fd8d1",
   "metadata": {},
   "outputs": [],
   "source": [
    "my_ragmaker = RAGmaker()\n",
    "my_ragmaker.init_text_rag_model(lyrics['Lyrics'], metadata = metadata)"
   ]
  },
  {
   "cell_type": "code",
   "execution_count": 6,
   "id": "6df19c6c",
   "metadata": {},
   "outputs": [
    {
     "name": "stdout",
     "output_type": "stream",
     "text": [
      "Match(es) to your query 'Life is good and I will survive. I am happy that things turned out this way':\n",
      "\n",
      "Match 1:\n",
      "Metadata:\n",
      "Artist: Eric Clapton\n",
      "Title: I’ll Be Alright\n",
      "Text:\n",
      "I'll be alright\n",
      "I'll be alright\n",
      "I'll be alright someday\n",
      "If in my heart\n",
      "I do not give\n",
      "Then I'll be al\n",
      "\n",
      "Match 2:\n",
      "Metadata:\n",
      "Artist: John Denver\n",
      "Title: Poems, Prayers, & Promises\n",
      "Text:\n",
      "I've been lately thinking\n",
      "About my life's time\n",
      "All the things I've done\n",
      "And how it's been\n",
      "And I can'\n",
      "\n",
      "\n"
     ]
    }
   ],
   "source": [
    "query_text = \"Life is good and I will survive. I am happy that things turned out this way\"\n",
    "my_ragmaker.search_text_database_and_print_matches(query_text, k=2, text_character_limit=100)"
   ]
  },
  {
   "cell_type": "markdown",
   "id": "fd96a45c",
   "metadata": {},
   "source": [
    "## Add generation\n",
    "\n",
    "my code assumes the system prompt has `{user_input}` and `{search_ouput}`"
   ]
  },
  {
   "cell_type": "code",
   "execution_count": 7,
   "id": "a505f6ab",
   "metadata": {},
   "outputs": [],
   "source": [
    "system_prompt = \"\"\"\n",
    "# System\n",
    "You are an art critic with extensive music knowledge. \n",
    "Your role is to reply and comment on the user's input (thoughts, questions, or comments) based \n",
    "on the songs that are most relevant to their input. The input is below under the USER_INPUT section, \n",
    "and the relavant songs you have knowledge about, including the author, title, and lyrics, are given \n",
    "below in the CONTEXT_SONGS section. Make sure you ground your answers as much as possible on the songs provided.\n",
    "\n",
    "# USER_INPUT\n",
    "\n",
    "{user_input}\n",
    "\n",
    "# CONTEXT_SONGS\n",
    "\n",
    "{search_output}\n",
    "\n",
    "# ART CRITIC'S RESPONSE\n",
    "\"\"\""
   ]
  },
  {
   "cell_type": "code",
   "execution_count": 8,
   "id": "4c1228e4",
   "metadata": {},
   "outputs": [
    {
     "name": "stdout",
     "output_type": "stream",
     "text": [
      "The sentiment of \"Life is good and I will survive\" with a hint of self-awareness that \"things turned out this way.\" This reminds me of John Denver's poignant reflection on life in his song \"Poems, Prayers, & Promises.\" The lyrics you provided touch on the themes of appreciation for the life one has lived, the importance of loved ones, and the bittersweet acknowledgment of the passing of time.\n",
      "\n",
      "The line \"For though my life's been good to me / There's still so much to do\" resonates with your statement. It's as if Denver is saying that even in the midst of gratitude for what one has experienced, there is always a sense of longing and a desire to explore further.\n",
      "\n",
      "Eric Clapton's song \"I'll Be Alright\" also comes to mind when considering resilience and perseverance. The repetition of \"I'll be alright someday\" becomes a mantra, emphasizing the idea that even in difficult times, one can find solace in the conviction that things will get better with time.\n",
      "\n",
      "These songs suggest that your outlook on life is one of gratitude and acceptance, acknowledging both the good and the uncertainty of what lies ahead. It's a nuanced perspective that recognizes the value of the present moment while also embracing the possibility of growth and new experiences.\n"
     ]
    }
   ],
   "source": [
    "my_ragmaker.query_text_rag_model(query_text, system_prompt, k=2)"
   ]
  },
  {
   "cell_type": "code",
   "execution_count": null,
   "id": "24828a1b",
   "metadata": {},
   "outputs": [],
   "source": []
  }
 ],
 "metadata": {
  "kernelspec": {
   "display_name": "huggingface-wsl",
   "language": "python",
   "name": "python3"
  },
  "language_info": {
   "codemirror_mode": {
    "name": "ipython",
    "version": 3
   },
   "file_extension": ".py",
   "mimetype": "text/x-python",
   "name": "python",
   "nbconvert_exporter": "python",
   "pygments_lexer": "ipython3",
   "version": "3.11.11"
  }
 },
 "nbformat": 4,
 "nbformat_minor": 5
}
